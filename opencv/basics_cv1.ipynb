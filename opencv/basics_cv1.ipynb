{
 "cells": [
  {
   "cell_type": "markdown",
   "metadata": {},
   "source": [
    "# GUI Features in OpenCV"
   ]
  },
  {
   "cell_type": "markdown",
   "metadata": {},
   "source": [
    "## Load image"
   ]
  },
  {
   "cell_type": "code",
   "execution_count": 1,
   "metadata": {},
   "outputs": [],
   "source": [
    "import cv2\n",
    "import matplotlib.pyplot as plt\n",
    "\n",
    "image = cv2.imread(\"./images/lenna.png\")\n",
    "\n",
    "image = cv2.resize(image, (500,500))\n",
    "\n",
    "cv2.imshow(\"Lenna\", image)\n",
    "\n",
    "k = cv2.waitKey(0)\n",
    "if k == ord('q'):\n",
    "    cv2.destroyAllWindows()"
   ]
  },
  {
   "cell_type": "markdown",
   "metadata": {},
   "source": [
    "## Load video"
   ]
  },
  {
   "cell_type": "code",
   "execution_count": 2,
   "metadata": {},
   "outputs": [],
   "source": [
    "import numpy as np\n",
    "# cap = cv2.VideoCapture(0)\n",
    "\n",
    "# if not cap.isOpened():\n",
    "#     print(\"Error: Could not open camera.\")\n",
    "#     exit()\n",
    "\n",
    "# while True:\n",
    "#     ret, frame = cap.read()\n",
    "    \n",
    "#     if not ret:\n",
    "#         print(\"Error: Could not read frame.\")\n",
    "#         break\n",
    "    \n",
    "#     gray = cv2.cvtColor(frame, cv2.COLOR_BGR2GRAY)\n",
    "    \n",
    "    \n",
    "#     cv2.imshow(\"Video\", gray)\n",
    "    \n",
    "#     if cv2.waitKey(1) & 0xFF == ord('q'):\n",
    "#         break\n",
    "    \n",
    "# cap.release()\n",
    "# cv2.destroyAllWindows()"
   ]
  },
  {
   "cell_type": "markdown",
   "metadata": {},
   "source": [
    "## Drawing functions in OpenCV"
   ]
  },
  {
   "cell_type": "code",
   "execution_count": 3,
   "metadata": {},
   "outputs": [],
   "source": [
    "def displayImage(image):\n",
    "    cv2.imshow(\"Image\", image)\n",
    "    \n",
    "    k = cv2.waitKey(0)\n",
    "    if k == ord('q'):\n",
    "        cv2.destroyAllWindows()"
   ]
  },
  {
   "cell_type": "code",
   "execution_count": 8,
   "metadata": {},
   "outputs": [],
   "source": [
    "black_image = np.zeros(shape=(500,500,3), dtype=np.uint8)\n",
    "\n",
    "# Drawing a line ( diagonal line of thickness 5 and yellow color )\n",
    "cv2.line(black_image, (0,0), (500,500), (0,255,255), 5)\n",
    "\n",
    "# Drawing a Circle of radius 100 and center at (250,250) with color (0,100,120) and thickness 5\n",
    "cv2.circle(black_image, (250,250), 100, (0,100,120), 5)\n",
    "\n",
    "# Drawing a rectangle\n",
    "cv2.rectangle(black_image, (50,50), (450,450), (255,0,0), 5)\n",
    "\n",
    "displayImage(black_image)\n"
   ]
  },
  {
   "cell_type": "code",
   "execution_count": 35,
   "metadata": {},
   "outputs": [],
   "source": [
    "white_image = np.ones(shape=(700, 700), dtype=np.uint8) * 255\n",
    "\n",
    "# Drawing Polygon\n",
    "points = np.array([[100,100], [200,200], [300,100], [200,50]], np.int32)\n",
    "# np.expand_dims(points, axis=1)\n",
    "\n",
    "cv2.polylines(white_image, [points], isClosed=True, color=(0,0,0), thickness=5)\n",
    "\n",
    "cv2.putText(white_image, \"PolyGon Image\", (100,400), cv2.FONT_HERSHEY_SIMPLEX, 2, (0,0,0), 5)\n",
    "\n",
    "displayImage(white_image)"
   ]
  },
  {
   "cell_type": "markdown",
   "metadata": {},
   "source": [
    "## Mouse as a Paint-Brush"
   ]
  },
  {
   "cell_type": "code",
   "execution_count": 36,
   "metadata": {},
   "outputs": [],
   "source": [
    "def draw_circle(event, x,y, flags, param):\n",
    "    if event == cv2.EVENT_LBUTTONDBLCLK:\n",
    "        cv2.circle(white_image, (x,y),100, (0,0,100), 3)\n",
    "        \n",
    "cv2.namedWindow(\"White Image\")\n",
    "cv2.setMouseCallback(\"White Image\", draw_circle)\n",
    "\n",
    "while 1:\n",
    "    cv2.imshow(\"White Image\", white_image)\n",
    "    \n",
    "    if cv2.waitKey(20) & 0xFF == ord('q'):\n",
    "        break\n",
    "    \n",
    "cv2.destroyAllWindows()"
   ]
  }
 ],
 "metadata": {
  "kernelspec": {
   "display_name": "Python 3",
   "language": "python",
   "name": "python3"
  },
  "language_info": {
   "codemirror_mode": {
    "name": "ipython",
    "version": 3
   },
   "file_extension": ".py",
   "mimetype": "text/x-python",
   "name": "python",
   "nbconvert_exporter": "python",
   "pygments_lexer": "ipython3",
   "version": "3.12.1"
  }
 },
 "nbformat": 4,
 "nbformat_minor": 2
}
