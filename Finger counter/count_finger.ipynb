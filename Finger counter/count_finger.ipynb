{
 "cells": [
  {
   "cell_type": "code",
   "execution_count": 3,
   "metadata": {},
   "outputs": [],
   "source": [
    "import cv2\n",
    "import numpy as np\n",
    "from sklearn.metrics import pairwise"
   ]
  },
  {
   "cell_type": "code",
   "execution_count": 4,
   "metadata": {},
   "outputs": [],
   "source": [
    "# global variables\n",
    "background = None\n",
    "accumulated_weight = 0.5\n",
    "roi_top = 20\n",
    "roi_bottom = 300\n",
    "roi_right = 300\n",
    "roi_left = 600"
   ]
  },
  {
   "cell_type": "code",
   "execution_count": 5,
   "metadata": {},
   "outputs": [],
   "source": [
    "def calc_accum_avg(frame,accumulated_weight):\n",
    "    \n",
    "    global background\n",
    "    \n",
    "    if background is None:\n",
    "        background = frame.copy().astype('float')\n",
    "        return None\n",
    "    cv2.accumulateWeighted(frame,background,accumulated_weight)"
   ]
  },
  {
   "cell_type": "code",
   "execution_count": 6,
   "metadata": {},
   "outputs": [],
   "source": [
    "def segment(frame,threshold_min=25):\n",
    "    global background\n",
    "    \n",
    "    diff = cv2.absdiff(background.astype('uint8'),frame)\n",
    "    \n",
    "    ret, thresh = cv2.threshold(diff,threshold_min,255,cv2.THRESH_BINARY)\n",
    "    \n",
    "    image, contours, hierarchy = cv2.findContours(thresh.copy(),cv2.RETR_EXTERNAL,cv2.CHAIN_APPROX_SIMPLE)\n",
    "    \n",
    "    if len(contours) == 0:\n",
    "        return None\n",
    "    else:\n",
    "        # largest external contour in the ROI should be the hand\n",
    "        \n",
    "        hand_segment = max(contours,key=cv2.contourArea)\n",
    "        \n",
    "        return (thresh,hand_segment)\n",
    "        "
   ]
  },
  {
   "cell_type": "code",
   "execution_count": 7,
   "metadata": {},
   "outputs": [],
   "source": [
    "# count fingers with convex hull\n",
    "def count_fingers(threshold_img,hand_segment):\n",
    "    \n",
    "    conv_hull = cv2.convexHull(hand_segment)\n",
    "    \n",
    "    # getting extreme points (x,y) tuples\n",
    "    top    = tuple(conv_hull[conv_hull[:, :, 1].argmin()][0])\n",
    "    bottom = tuple(conv_hull[conv_hull[:, :, 1].argmax()][0])\n",
    "    left   = tuple(conv_hull[conv_hull[:, :, 0].argmin()][0])\n",
    "    right  = tuple(conv_hull[conv_hull[:, :, 0].argmax()][0])\n",
    "    \n",
    "    center_x = (left[0] + right[0]) // 2 # x so index 0\n",
    "    center_y = (top[1] + bottom[1]) // 2 # y so index 1\n",
    "    \n",
    "    # calculating the euclidean distance from center to all four extreme points\n",
    "    distance = pairwise.euclidean_distance([center_x,center_y],Y=[left,right,top,bottom])[0]\n",
    "    \n",
    "    max_distance = distance.max()\n",
    "    \n",
    "    radius = int(0.9*max_distance)\n",
    "    circumference = (2*np.pi*radius)\n",
    "    \n",
    "    circular_roi = np.zeros(threshold_img[:2],dtype='uint8')\n",
    "    \n",
    "    cv2.cricle(circular_roi,(center_x,center_y),radius,255,10)\n",
    "    \n",
    "    circular_roi = cv2.bitwise_and(threshold_img,threshold_img,mask=circular_roi)\n",
    "    \n",
    "    image,contours,hierarchy = cv2.findContours(circular_roi.copy(),cv2.RETR_EXTERNAL,cv2.CHAIN_APPROX_SIMPLE)\n",
    "    \n",
    "    count = 0\n",
    "    \n",
    "    for cnt in contours:\n",
    "        (x,y,w,h) = cv2.boundingRect(cnt)\n",
    "        \n",
    "        # if the center of the hand is too far\n",
    "        \n",
    "        out_of_position = (center_y + (center_y*0.25) > (y + h))\n",
    "        \n",
    "        limit_points = ((circumference*0.25) > cnt.shape[0])\n",
    "        \n",
    "        if out_of_position and limit_points:\n",
    "            count += 1\n",
    "    return count"
   ]
  },
  {
   "cell_type": "code",
   "execution_count": 8,
   "metadata": {},
   "outputs": [
    {
     "ename": "AttributeError",
     "evalue": "module 'sklearn.metrics.pairwise' has no attribute 'euclidean_distance'",
     "output_type": "error",
     "traceback": [
      "\u001b[1;31m---------------------------------------------------------------------------\u001b[0m",
      "\u001b[1;31mAttributeError\u001b[0m                            Traceback (most recent call last)",
      "\u001b[1;32m<ipython-input-8-30a22a6d9261>\u001b[0m in \u001b[0;36m<module>\u001b[1;34m\u001b[0m\n\u001b[0;32m     27\u001b[0m             \u001b[0mcv2\u001b[0m\u001b[1;33m.\u001b[0m\u001b[0mdrawContours\u001b[0m\u001b[1;33m(\u001b[0m\u001b[0mframe_copy\u001b[0m\u001b[1;33m,\u001b[0m\u001b[1;33m[\u001b[0m\u001b[0mhand_segment\u001b[0m \u001b[1;33m+\u001b[0m \u001b[1;33m(\u001b[0m\u001b[0mroi_right\u001b[0m\u001b[1;33m,\u001b[0m\u001b[0mroi_top\u001b[0m\u001b[1;33m)\u001b[0m\u001b[1;33m]\u001b[0m\u001b[1;33m,\u001b[0m\u001b[1;33m-\u001b[0m\u001b[1;36m1\u001b[0m\u001b[1;33m,\u001b[0m\u001b[1;33m(\u001b[0m\u001b[1;36m255\u001b[0m\u001b[1;33m,\u001b[0m\u001b[1;36m0\u001b[0m\u001b[1;33m,\u001b[0m\u001b[1;36m0\u001b[0m\u001b[1;33m)\u001b[0m\u001b[1;33m,\u001b[0m\u001b[1;36m5\u001b[0m\u001b[1;33m)\u001b[0m\u001b[1;33m\u001b[0m\u001b[0m\n\u001b[0;32m     28\u001b[0m \u001b[1;33m\u001b[0m\u001b[0m\n\u001b[1;32m---> 29\u001b[1;33m             \u001b[0mfingers\u001b[0m \u001b[1;33m=\u001b[0m \u001b[0mcount_fingers\u001b[0m\u001b[1;33m(\u001b[0m\u001b[0mthresholded\u001b[0m\u001b[1;33m,\u001b[0m\u001b[0mhand_segment\u001b[0m\u001b[1;33m)\u001b[0m\u001b[1;33m\u001b[0m\u001b[0m\n\u001b[0m\u001b[0;32m     30\u001b[0m \u001b[1;33m\u001b[0m\u001b[0m\n\u001b[0;32m     31\u001b[0m             \u001b[0mcv2\u001b[0m\u001b[1;33m.\u001b[0m\u001b[0mputText\u001b[0m\u001b[1;33m(\u001b[0m\u001b[0mframe_copy\u001b[0m\u001b[1;33m,\u001b[0m\u001b[0mstr\u001b[0m\u001b[1;33m(\u001b[0m\u001b[0mfingers\u001b[0m\u001b[1;33m)\u001b[0m\u001b[1;33m,\u001b[0m\u001b[1;33m(\u001b[0m\u001b[1;36m70\u001b[0m\u001b[1;33m,\u001b[0m\u001b[1;36m50\u001b[0m\u001b[1;33m)\u001b[0m\u001b[1;33m,\u001b[0m\u001b[0mcv2\u001b[0m\u001b[1;33m.\u001b[0m\u001b[0mFONT_HERSHEY_COMPLEX\u001b[0m\u001b[1;33m,\u001b[0m\u001b[1;36m1\u001b[0m\u001b[1;33m,\u001b[0m\u001b[1;33m(\u001b[0m\u001b[1;36m0\u001b[0m\u001b[1;33m,\u001b[0m\u001b[1;36m255\u001b[0m\u001b[1;33m,\u001b[0m\u001b[1;36m0\u001b[0m\u001b[1;33m)\u001b[0m\u001b[1;33m,\u001b[0m\u001b[1;36m2\u001b[0m\u001b[1;33m)\u001b[0m\u001b[1;33m\u001b[0m\u001b[0m\n",
      "\u001b[1;32m<ipython-input-7-5a7e7e6458ef>\u001b[0m in \u001b[0;36mcount_fingers\u001b[1;34m(threshold_img, hand_segment)\u001b[0m\n\u001b[0;32m     14\u001b[0m \u001b[1;33m\u001b[0m\u001b[0m\n\u001b[0;32m     15\u001b[0m     \u001b[1;31m# calculating the euclidean distance from center to all four extreme points\u001b[0m\u001b[1;33m\u001b[0m\u001b[1;33m\u001b[0m\u001b[0m\n\u001b[1;32m---> 16\u001b[1;33m     \u001b[0mdistance\u001b[0m \u001b[1;33m=\u001b[0m \u001b[0mpairwise\u001b[0m\u001b[1;33m.\u001b[0m\u001b[0meuclidean_distance\u001b[0m\u001b[1;33m(\u001b[0m\u001b[1;33m[\u001b[0m\u001b[0mcenter_x\u001b[0m\u001b[1;33m,\u001b[0m\u001b[0mcenter_y\u001b[0m\u001b[1;33m]\u001b[0m\u001b[1;33m,\u001b[0m\u001b[0mY\u001b[0m\u001b[1;33m=\u001b[0m\u001b[1;33m[\u001b[0m\u001b[0mleft\u001b[0m\u001b[1;33m,\u001b[0m\u001b[0mright\u001b[0m\u001b[1;33m,\u001b[0m\u001b[0mtop\u001b[0m\u001b[1;33m,\u001b[0m\u001b[0mbottom\u001b[0m\u001b[1;33m]\u001b[0m\u001b[1;33m)\u001b[0m\u001b[1;33m[\u001b[0m\u001b[1;36m0\u001b[0m\u001b[1;33m]\u001b[0m\u001b[1;33m\u001b[0m\u001b[0m\n\u001b[0m\u001b[0;32m     17\u001b[0m \u001b[1;33m\u001b[0m\u001b[0m\n\u001b[0;32m     18\u001b[0m     \u001b[0mmax_distance\u001b[0m \u001b[1;33m=\u001b[0m \u001b[0mdistance\u001b[0m\u001b[1;33m.\u001b[0m\u001b[0mmax\u001b[0m\u001b[1;33m(\u001b[0m\u001b[1;33m)\u001b[0m\u001b[1;33m\u001b[0m\u001b[0m\n",
      "\u001b[1;31mAttributeError\u001b[0m: module 'sklearn.metrics.pairwise' has no attribute 'euclidean_distance'"
     ]
    }
   ],
   "source": [
    "cam = cv2.VideoCapture(0)\n",
    "\n",
    "num_frames = 0\n",
    "\n",
    "while True:\n",
    "    \n",
    "    ret, frame = cam.read()\n",
    "    \n",
    "    frame_copy = frame.copy()\n",
    "    \n",
    "    roi = frame[roi_top:roi_bottom,roi_right:roi_left] # x and y splitting / cropping to get the ROI from the frame\n",
    "    \n",
    "    gray = cv2.cvtColor(roi,cv2.COLOR_BGR2GRAY)\n",
    "    \n",
    "    if num_frames < 60:\n",
    "        calc_accum_avg(gray,accumulated_weight)\n",
    "        \n",
    "        if num_frames <=59:\n",
    "            cv2.putText(frame_copy,\"Wait Getting Background\",(200,300),cv2.FONT_HERSHEY_COMPLEX,1,(0,255,0),2)\n",
    "            cv2.imshow('Finger count',frame_copy)\n",
    "    else:\n",
    "        hand = segment(gray)\n",
    "        \n",
    "        if hand is not None:\n",
    "            thresholded, hand_segment = hand\n",
    "            \n",
    "            cv2.drawContours(frame_copy,[hand_segment + (roi_right,roi_top)],-1,(255,0,0),5)\n",
    "            \n",
    "            fingers = count_fingers(thresholded,hand_segment)\n",
    "            \n",
    "            cv2.putText(frame_copy,str(fingers),(70,50),cv2.FONT_HERSHEY_COMPLEX,1,(0,255,0),2)\n",
    "            \n",
    "            cv2.imshow(\"Thresholded\", thresholded)\n",
    "    cv2.rectangle(frame_copy,(roi_left,roi_top),(roi_right,roi_bottom),(0,255,0),2)\n",
    "    \n",
    "    num_frames += 1\n",
    "    \n",
    "    cv2.imshow('Finger count',frame_copy)\n",
    "    \n",
    "    \n",
    "    k = cv2.waitKey(10) & 0xFF\n",
    "    \n",
    "    if k == 27:\n",
    "        break\n",
    "        \n",
    "        \n",
    "cam.release()\n",
    "cv2.destroyAllWindows()\n",
    "    "
   ]
  }
 ],
 "metadata": {
  "kernelspec": {
   "display_name": "Python 3",
   "language": "python",
   "name": "python3"
  },
  "language_info": {
   "codemirror_mode": {
    "name": "ipython",
    "version": 3
   },
   "file_extension": ".py",
   "mimetype": "text/x-python",
   "name": "python",
   "nbconvert_exporter": "python",
   "pygments_lexer": "ipython3",
   "version": "3.6.6"
  }
 },
 "nbformat": 4,
 "nbformat_minor": 2
}
